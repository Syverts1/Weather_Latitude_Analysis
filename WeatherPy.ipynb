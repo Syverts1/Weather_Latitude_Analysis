{
 "cells": [
  {
   "cell_type": "code",
   "execution_count": 19,
   "metadata": {
    "collapsed": true
   },
   "outputs": [],
   "source": [
    "#Dependencies\n",
    "from citipy import citipy\n",
    "\n",
    "import os\n",
    "import random\n",
    "import math\n",
    "\n",
    "import requests\n",
    "import json\n",
    "import matplotlib.pyplot as plt\n",
    "import pandas as pd\n",
    "import numpy as np\n",
    "import seaborn"
   ]
  },
  {
   "cell_type": "code",
   "execution_count": 20,
   "metadata": {
    "collapsed": true
   },
   "outputs": [],
   "source": [
    "# API Info\n",
    "from config import key\n",
    "\n",
    "base_url = \"http://api.openweathermap.org/data/2.5/weather?appid=\""
   ]
  },
  {
   "cell_type": "code",
   "execution_count": 40,
   "metadata": {},
   "outputs": [
    {
     "name": "stdout",
     "output_type": "stream",
     "text": [
      "[-40.6832681859882, 13.53591741764535, 110.54266766320717, -33.60768234798013, -95.86267324115744]\n",
      "[15.742650231265216, -10.353712768254866, -83.32193435552932, -31.78714388650254, -28.68769886467564]\n"
     ]
    }
   ],
   "source": [
    "#Generate a random set of 500 latitude and longitude values\n",
    "rand_lat = []\n",
    "rand_long = []\n",
    "\n",
    "for i in range(600):\n",
    "    rand_long.append(random.uniform(180,-180))\n",
    "    \n",
    "    lat = math.degrees(math.acos(2*random.random()-1))-90\n",
    "    rand_lat.append(lat)\n",
    "\n",
    "print(rand_long[0:5])\n",
    "print(rand_lat[0:5])\n"
   ]
  },
  {
   "cell_type": "code",
   "execution_count": 41,
   "metadata": {},
   "outputs": [
    {
     "name": "stdout",
     "output_type": "stream",
     "text": [
      "['ponta do sol,cv', 'sumbe,ao', 'albany,au', 'arraial do cabo,br', 'lebu,cl']\n"
     ]
    }
   ],
   "source": [
    "#initiate city, country lists to be populated within the for loop\n",
    "cities = []\n",
    "countries = []\n",
    "loc_concat_list = []\n",
    "\n",
    "#find the closest city through each of the 500 random lat/longs\n",
    "\n",
    "for indexi, i in enumerate(rand_lat):\n",
    "    \n",
    "    citi = citipy.nearest_city(i, rand_long[indexi])\n",
    "    \n",
    "    cityname =citi.city_name\n",
    "    countrycd = citi.country_code\n",
    "    \n",
    "    loc_concat = cityname + \",\" + countrycd\n",
    "    \n",
    "#Using a while loop: check to see if the location has already been chosen\n",
    "#If it has, keep generating new lat/longs and city/countries until a unique location is found\n",
    "    while loc_concat in loc_concat_list:\n",
    "        \n",
    "        rand_long[indexi] = random.uniform(180,-180)\n",
    "        rand_lat[indexi] = math.degrees(math.acos(2*random.random()-1))-90\n",
    "        \n",
    "        citi = citipy.nearest_city(rand_lat[indexi], rand_long[indexi])\n",
    "        \n",
    "        cityname =citi.city_name\n",
    "        countrycd = citi.country_code\n",
    "        \n",
    "        loc_concat = cityname + \",\" + countrycd\n",
    "        #print(loc_concat)\n",
    "    \n",
    "#add the randomly generated cities and counties to lists   \n",
    "    cities.append(cityname)\n",
    "    countries.append(countrycd)\n",
    "    loc_concat_list.append(cityname + \",\" + countrycd)\n",
    "\n",
    "#print(cities[0:5])\n",
    "print(loc_concat_list[0:5])"
   ]
  },
  {
   "cell_type": "code",
   "execution_count": 42,
   "metadata": {
    "collapsed": true
   },
   "outputs": [],
   "source": [
    "#create a dataframe of cities and countries\n",
    "#write the information to a csv\n",
    "\n",
    "cities_data = pd.DataFrame({\"city\": cities,\"country\": countries,\"loc_concat\":loc_concat_list,\"latitude\":rand_lat,\"longitude\":rand_long})\n",
    "\n",
    "cities_data.to_csv(path_or_buf=\"check.csv\")"
   ]
  },
  {
   "cell_type": "code",
   "execution_count": 43,
   "metadata": {},
   "outputs": [
    {
     "name": "stdout",
     "output_type": "stream",
     "text": [
      "Processing city: 0, ponta do sol using http://api.openweathermap.org/data/2.5/weather?appid=25bc90a1196e6f153eece0bc0b0fc9eb&q=ponta do sol,cv\n",
      "Processing city: 1, sumbe using http://api.openweathermap.org/data/2.5/weather?appid=25bc90a1196e6f153eece0bc0b0fc9eb&q=sumbe,ao\n",
      "Processing city: 2, albany using http://api.openweathermap.org/data/2.5/weather?appid=25bc90a1196e6f153eece0bc0b0fc9eb&q=albany,au\n",
      "Processing city: 3, arraial do cabo using http://api.openweathermap.org/data/2.5/weather?appid=25bc90a1196e6f153eece0bc0b0fc9eb&q=arraial do cabo,br\n",
      "Processing city: 4, lebu using http://api.openweathermap.org/data/2.5/weather?appid=25bc90a1196e6f153eece0bc0b0fc9eb&q=lebu,cl\n",
      "Processing city: 5, rikitea using http://api.openweathermap.org/data/2.5/weather?appid=25bc90a1196e6f153eece0bc0b0fc9eb&q=rikitea,pf\n",
      "Processing city: 6, khonuu using http://api.openweathermap.org/data/2.5/weather?appid=25bc90a1196e6f153eece0bc0b0fc9eb&q=khonuu,ru\n",
      "khonuu cannot be found. Continuing with next city\n",
      "Processing city: 7, torbay using http://api.openweathermap.org/data/2.5/weather?appid=25bc90a1196e6f153eece0bc0b0fc9eb&q=torbay,ca\n",
      "Processing city: 8, abalak using http://api.openweathermap.org/data/2.5/weather?appid=25bc90a1196e6f153eece0bc0b0fc9eb&q=abalak,ne\n",
      "Processing city: 9, jamestown using http://api.openweathermap.org/data/2.5/weather?appid=25bc90a1196e6f153eece0bc0b0fc9eb&q=jamestown,sh\n",
      "Processing city: 10, esperance using http://api.openweathermap.org/data/2.5/weather?appid=25bc90a1196e6f153eece0bc0b0fc9eb&q=esperance,au\n",
      "Processing city: 11, nurota using http://api.openweathermap.org/data/2.5/weather?appid=25bc90a1196e6f153eece0bc0b0fc9eb&q=nurota,uz\n",
      "Processing city: 12, vanimo using http://api.openweathermap.org/data/2.5/weather?appid=25bc90a1196e6f153eece0bc0b0fc9eb&q=vanimo,pg\n",
      "Processing city: 13, thompson using http://api.openweathermap.org/data/2.5/weather?appid=25bc90a1196e6f153eece0bc0b0fc9eb&q=thompson,ca\n",
      "Processing city: 14, presidente epitacio using http://api.openweathermap.org/data/2.5/weather?appid=25bc90a1196e6f153eece0bc0b0fc9eb&q=presidente epitacio,br\n",
      "Processing city: 15, eureka using http://api.openweathermap.org/data/2.5/weather?appid=25bc90a1196e6f153eece0bc0b0fc9eb&q=eureka,us\n",
      "[-25.09, 13.84, 117.88, -42.02, -73.65, -134.97, -52.73, 6.28, -5.72, 121.89, 65.69, 141.3, -97.86, -52.12, -124.16]\n"
     ]
    }
   ],
   "source": [
    "#initiate lists to hold api results\n",
    "api_lon = []\n",
    "api_lat = []\n",
    "api_temp = []\n",
    "api_humid = []\n",
    "api_cloudiness = []\n",
    "api_windspeed = []\n",
    "\n",
    "#loop through all cities, and search/return information from openweather API\n",
    "for indexi, item in enumerate(loc_concat_list[0:16]):\n",
    "    if len(api_lon) == 500:\n",
    "        break\n",
    "    q_url = base_url + key + \"&q=\" +item\n",
    "    weather_response = requests.get(q_url)\n",
    "    weather_json = weather_response.json()\n",
    "    print(\"Processing city: \" + str(indexi) +\", \"+ str(cities[indexi]) +\" using \" + str(q_url))\n",
    "    \n",
    "    #place each resulting value in its own list\n",
    "    try:\n",
    "        api_lon.append(weather_json[\"coord\"][\"lon\"])\n",
    "        api_lat.append(weather_json[\"coord\"][\"lat\"])\n",
    "        api_temp.append(weather_json[\"main\"][\"temp\"]) #need to convert to farenheit\n",
    "        api_humid.append(weather_json[\"main\"][\"humidity\"])\n",
    "        api_cloudiness.append(weather_json[\"clouds\"][\"all\"]) #check units\n",
    "        api_windspeed.append(weather_json[\"wind\"][\"speed\"]) #check units\n",
    "\n",
    "#Temperature (F) vs. Latitude\n",
    "#Humidity (%) vs. Latitude\n",
    "#Cloudiness (%) vs. Latitude\n",
    "#Wind Speed (mph) vs. Latitude\n",
    "    except:\n",
    "        print(cities[indexi] + \" cannot be found. Continuing with next city\")\n",
    "        continue\n",
    "print(api_lon)"
   ]
  },
  {
   "cell_type": "code",
   "execution_count": null,
   "metadata": {},
   "outputs": [],
   "source": []
  },
  {
   "cell_type": "code",
   "execution_count": null,
   "metadata": {
    "collapsed": true
   },
   "outputs": [],
   "source": []
  }
 ],
 "metadata": {
  "kernelspec": {
   "display_name": "Python 3",
   "language": "python",
   "name": "python3"
  },
  "language_info": {
   "codemirror_mode": {
    "name": "ipython",
    "version": 3
   },
   "file_extension": ".py",
   "mimetype": "text/x-python",
   "name": "python",
   "nbconvert_exporter": "python",
   "pygments_lexer": "ipython3",
   "version": "3.6.3"
  }
 },
 "nbformat": 4,
 "nbformat_minor": 2
}
